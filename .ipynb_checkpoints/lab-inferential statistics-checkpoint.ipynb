{
 "cells": [
  {
   "cell_type": "markdown",
   "id": "4d805308",
   "metadata": {},
   "source": [
    "## Lab | Inferential statistics"
   ]
  },
  {
   "cell_type": "code",
   "execution_count": 6,
   "id": "36cbd85c",
   "metadata": {},
   "outputs": [],
   "source": [
    "import scikit_posthocs as sp\n",
    "import numpy as np\n",
    "from scipy import stats\n",
    "import pandas as pd\n",
    "import math as m\n",
    "pd.options.display.float_format = '{:,.4f}'.format"
   ]
  },
  {
   "cell_type": "markdown",
   "id": "60beff10",
   "metadata": {},
   "source": [
    "### 1. Instructions\n",
    "#### It is assumed that the mean systolic blood pressure is μ = 120 mm Hg. In the Honolulu Heart Study, a sample of n = 100 people had an average systolic blood pressure of 130.1 mm Hg with a standard deviation of 21.21 mm Hg. Is the group significantly different (with respect to systolic blood pressure!) from the regular population?\n",
    "\n",
    "#### - Set up the hypothesis test.\n",
    "#### - Write down all the steps followed for setting up the test.\n",
    "#### - Calculate the test statistic by hand and also code it in Python. It should be 4.76190. We will take a look at how to make decisions based on this calculated value."
   ]
  },
  {
   "cell_type": "code",
   "execution_count": 7,
   "id": "3b2e659c",
   "metadata": {},
   "outputs": [],
   "source": [
    "# H0: There isn't a significantly difference between the Honolulu Heart Study's group and the mean of the total population"
   ]
  },
  {
   "cell_type": "code",
   "execution_count": 8,
   "id": "69006554",
   "metadata": {},
   "outputs": [],
   "source": [
    "# Choose significance/confidence level\n",
    "\n",
    "# Choose the sample in which this test it's gonna be based on, n = 100 in this case\n",
    "\n",
    "# Compute the statistic\n",
    "\n",
    "# Get the p-value"
   ]
  },
  {
   "cell_type": "code",
   "execution_count": 9,
   "id": "8e02c8f1",
   "metadata": {},
   "outputs": [
    {
     "name": "stdout",
     "output_type": "stream",
     "text": [
      "t =  4.761904761904759\n"
     ]
    }
   ],
   "source": [
    "# Calculating the t statistics value by hand\n",
    "x = 130.1 # sample mean\n",
    "μ = 120 #population mean\n",
    "s = 21.21 # sample standard deviation\n",
    "n = 100 # sample size\n",
    "\n",
    "t = (x - μ)/(s/m.sqrt(n))\n",
    "print(\"t = \", t)"
   ]
  },
  {
   "cell_type": "code",
   "execution_count": 10,
   "id": "a814c145",
   "metadata": {},
   "outputs": [
    {
     "name": "stdout",
     "output_type": "stream",
     "text": [
      "p = 6.562701817208617e-06\n",
      "We can reject H0\n"
     ]
    }
   ],
   "source": [
    "# taking a decision on the hypothesis\n",
    "df = 99 # n-1\n",
    "a = 0.05 # 95% confidence interval\n",
    "\n",
    "pvalue = stats.t.sf(abs(t), df=df)*2 # multiplied by 2 since its a two-tailed test\n",
    "print(\"p =\", pvalue)\n",
    "\n",
    "if pvalue < a:\n",
    "    print(\"We can reject H0\")\n",
    "else:\n",
    "    print(\"We do not have enough evidence to reject H0\")"
   ]
  }
 ],
 "metadata": {
  "kernelspec": {
   "display_name": "Python 3 (ipykernel)",
   "language": "python",
   "name": "python3"
  },
  "language_info": {
   "codemirror_mode": {
    "name": "ipython",
    "version": 3
   },
   "file_extension": ".py",
   "mimetype": "text/x-python",
   "name": "python",
   "nbconvert_exporter": "python",
   "pygments_lexer": "ipython3",
   "version": "3.9.12"
  }
 },
 "nbformat": 4,
 "nbformat_minor": 5
}
